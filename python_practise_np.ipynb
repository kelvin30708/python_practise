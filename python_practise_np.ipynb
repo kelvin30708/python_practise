{
 "metadata": {
  "language_info": {
   "codemirror_mode": {
    "name": "ipython",
    "version": 3
   },
   "file_extension": ".py",
   "mimetype": "text/x-python",
   "name": "python",
   "nbconvert_exporter": "python",
   "pygments_lexer": "ipython3",
   "version": "3.8.5-final"
  },
  "orig_nbformat": 2,
  "kernelspec": {
   "name": "python38564bit19af942a96d2488d88acbfa8a8aa4f49",
   "display_name": "Python 3.8.5 64-bit",
   "language": "python"
  }
 },
 "nbformat": 4,
 "nbformat_minor": 2,
 "cells": [
  {
   "cell_type": "code",
   "execution_count": 3,
   "metadata": {},
   "outputs": [
    {
     "output_type": "stream",
     "name": "stdout",
     "text": [
      "<class 'numpy.ndarray'>\n1\n2\n3\n4\n5\n"
     ]
    }
   ],
   "source": [
    "import numpy as np\n",
    "a = np.array([1, 2, 3, 4, 5])\n",
    "print(type(a))\n",
    "print(a[0])\n",
    "print(a[1])\n",
    "print(a[2])\n",
    "print(a[3])\n",
    "print(a[4])"
   ]
  },
  {
   "cell_type": "code",
   "execution_count": 7,
   "metadata": {},
   "outputs": [
    {
     "output_type": "stream",
     "name": "stdout",
     "text": [
      "1 2 3\n4 5 6\n"
     ]
    }
   ],
   "source": [
    "b = np.array([[1, 2, 3],\n",
    "              [4, 5, 6]])\n",
    "print(b[0, 0],b[0, 1],b[0, 2])\n",
    "print(b[1, 0],b[1, 1],b[1, 2])"
   ]
  },
  {
   "cell_type": "code",
   "execution_count": 8,
   "metadata": {},
   "outputs": [
    {
     "output_type": "stream",
     "name": "stdout",
     "text": [
      "[1 2 3]\n[1. 2. 3.]\n"
     ]
    }
   ],
   "source": [
    "b = np.array([1, 2, 3], int)\n",
    "print(b)\n",
    "b = np.array([1, 2, 3], float)\n",
    "print(b)"
   ]
  },
  {
   "cell_type": "code",
   "execution_count": 12,
   "metadata": {},
   "outputs": [
    {
     "output_type": "stream",
     "name": "stdout",
     "text": [
      "[0 1 2 3 4]\n[1 3 5]\n"
     ]
    }
   ],
   "source": [
    "a = np.arange(5)\n",
    "print(a)\n",
    "a = np.arange(1, 6, 2)\n",
    "print(a)"
   ]
  },
  {
   "cell_type": "code",
   "execution_count": 23,
   "metadata": {},
   "outputs": [
    {
     "output_type": "stream",
     "name": "stdout",
     "text": [
      "[0. 0.]\n[[0. 0.]\n [0. 0.]]\n[1. 1.]\n[[1. 1.]\n [1. 1.]]\n[7 7]\n[[7 7]\n [7 7]]\n"
     ]
    }
   ],
   "source": [
    "c = np.zeros(2)\n",
    "print(c)\n",
    "c = np.zeros((2, 2))\n",
    "print(c)\n",
    "\n",
    "e = np.ones(2)\n",
    "print(e)\n",
    "e = np.ones((2, 2))\n",
    "print(e)\n",
    "\n",
    "e = np.full(2, 7)\n",
    "print(e)\n",
    "e = np.full((2, 2), 7)\n",
    "print(e)"
   ]
  },
  {
   "cell_type": "code",
   "execution_count": 25,
   "metadata": {},
   "outputs": [
    {
     "output_type": "stream",
     "name": "stdout",
     "text": [
      "[[0 0 0]\n [0 0 0]]\n[[1 1 1]\n [1 1 1]]\n"
     ]
    }
   ],
   "source": [
    "i = np.array([[1, 2, 3],[3, 4, 5]])\n",
    "i = np.zeros_like(i)\n",
    "print(i)\n",
    "\n",
    "i = np.array([[1, 2, 3],[3, 4, 5]])\n",
    "i = np.ones_like(i)\n",
    "print(i)"
   ]
  },
  {
   "cell_type": "code",
   "execution_count": 38,
   "metadata": {},
   "outputs": [
    {
     "output_type": "stream",
     "name": "stdout",
     "text": [
      "[[1. 0. 0.]\n [0. 1. 0.]\n [0. 0. 1.]]\n[[0. 1. 0.]\n [0. 0. 1.]\n [0. 0. 0.]]\n[[0. 0. 1.]\n [0. 0. 0.]\n [0. 0. 0.]]\n[[0. 0. 0.]\n [1. 0. 0.]\n [0. 1. 0.]]\n"
     ]
    }
   ],
   "source": [
    "l = np.eye(3)\n",
    "print(l)\n",
    "\n",
    "l = np.eye(3, k=1) # 往上移1格\n",
    "print(l)\n",
    "\n",
    "l = np.eye(3, k=2) # 往上移2格 \n",
    "print(l)\n",
    "\n",
    "l = np.eye(3, k=-1)# 往下移1格 \n",
    "print(l)"
   ]
  },
  {
   "cell_type": "code",
   "execution_count": 40,
   "metadata": {},
   "outputs": [
    {
     "output_type": "stream",
     "name": "stdout",
     "text": [
      "[ 0  1  2  3  4  5  6  7  8  9 10 11 12 13 14 15]\n[[ 0  1  2  3]\n [ 4  5  6  7]\n [ 8  9 10 11]\n [12 13 14 15]]\n"
     ]
    }
   ],
   "source": [
    "a = np.arange(16)\n",
    "print(a)\n",
    "a = a.reshape((4, 4))\n",
    "print(a)"
   ]
  },
  {
   "source": [
    "# 陣列屬性\n",
    "\n",
    "|屬性|說明|\n",
    "|--------|:--------------:|\n",
    "|dtype   |int32, int64, float32, float64|\n",
    "|size    |# of array|\n",
    "|shape   |mxn|\n",
    "|itemsize|每個元素使用byte總數|\n",
    "|ndim    |1D, 2D, 3D|\n",
    "|nbytes  |每個陣列使用byte總數|"
   ],
   "cell_type": "markdown",
   "metadata": {}
  },
  {
   "source": [
    "# 走訪"
   ],
   "cell_type": "markdown",
   "metadata": {}
  },
  {
   "cell_type": "code",
   "execution_count": 42,
   "metadata": {},
   "outputs": [
    {
     "output_type": "stream",
     "name": "stdout",
     "text": [
      "[0 1 2 3 4]\n0 1 2 3 4 "
     ]
    }
   ],
   "source": [
    "a = np.arange(5)\n",
    "print(a)\n",
    "for c in a:\n",
    "    print(c, end=' ')"
   ]
  },
  {
   "cell_type": "code",
   "execution_count": 47,
   "metadata": {},
   "outputs": [
    {
     "output_type": "stream",
     "name": "stdout",
     "text": [
      "[0 1 2 3]\n[0 1] [2 3] \n0 1 2 3 "
     ]
    }
   ],
   "source": [
    "a = np.arange(4)\n",
    "print(a)\n",
    "a = a.reshape((2,2))\n",
    "for c in a:\n",
    "    print(c, end=' ')\n",
    "print()\n",
    "for c in a:\n",
    "    for b in c:\n",
    "        print(b, end=' ')"
   ]
  },
  {
   "source": [
    "# 亂數"
   ],
   "cell_type": "markdown",
   "metadata": {}
  },
  {
   "source": [
    "|屬性|說明|\n",
    "|---------|:--------------:|\n",
    "|seed(int)|"
   ],
   "cell_type": "markdown",
   "metadata": {}
  },
  {
   "cell_type": "code",
   "execution_count": 50,
   "metadata": {},
   "outputs": [
    {
     "output_type": "error",
     "ename": "TypeError",
     "evalue": "Cannot cast array from dtype('O') to dtype('int64') according to the rule 'safe'",
     "traceback": [
      "\u001b[0;31m---------------------------------------------------------------------------\u001b[0m",
      "\u001b[0;31mTypeError\u001b[0m                                 Traceback (most recent call last)",
      "\u001b[0;32m_mt19937.pyx\u001b[0m in \u001b[0;36mnumpy.random._mt19937.MT19937._legacy_seeding\u001b[0;34m()\u001b[0m\n",
      "\u001b[0;31mTypeError\u001b[0m: 'type' object cannot be interpreted as an integer",
      "\nDuring handling of the above exception, another exception occurred:\n",
      "\u001b[0;31mTypeError\u001b[0m                                 Traceback (most recent call last)",
      "\u001b[0;32m<ipython-input-50-5cfbaf3aed12>\u001b[0m in \u001b[0;36m<module>\u001b[0;34m\u001b[0m\n\u001b[0;32m----> 1\u001b[0;31m \u001b[0mx\u001b[0m \u001b[0;34m=\u001b[0m \u001b[0mnp\u001b[0m\u001b[0;34m.\u001b[0m\u001b[0mrandom\u001b[0m\u001b[0;34m.\u001b[0m\u001b[0mseed\u001b[0m\u001b[0;34m(\u001b[0m\u001b[0mint\u001b[0m\u001b[0;34m)\u001b[0m\u001b[0;34m\u001b[0m\u001b[0;34m\u001b[0m\u001b[0m\n\u001b[0m",
      "\u001b[0;32mmtrand.pyx\u001b[0m in \u001b[0;36mnumpy.random.mtrand.RandomState.seed\u001b[0;34m()\u001b[0m\n",
      "\u001b[0;32m_mt19937.pyx\u001b[0m in \u001b[0;36mnumpy.random._mt19937.MT19937._legacy_seeding\u001b[0;34m()\u001b[0m\n",
      "\u001b[0;32m_mt19937.pyx\u001b[0m in \u001b[0;36mnumpy.random._mt19937.MT19937._legacy_seeding\u001b[0;34m()\u001b[0m\n",
      "\u001b[0;31mTypeError\u001b[0m: Cannot cast array from dtype('O') to dtype('int64') according to the rule 'safe'"
     ]
    }
   ],
   "source": [
    "x = np.random.seed(int)"
   ]
  },
  {
   "cell_type": "code",
   "execution_count": 53,
   "metadata": {},
   "outputs": [
    {
     "output_type": "stream",
     "name": "stdout",
     "text": [
      "[0.86259419 0.29898363 0.08960979 0.17473386 0.19504893]\n[[0.79023965 0.84132962]\n [0.38014324 0.95400835]\n [0.87999368 0.19133509]]\n"
     ]
    }
   ],
   "source": [
    "a = np.random.rand(5)\n",
    "print(a)\n",
    "a = np.random.rand(3,2)\n",
    "print(a)"
   ]
  },
  {
   "cell_type": "code",
   "execution_count": 64,
   "metadata": {},
   "outputs": [
    {
     "output_type": "stream",
     "name": "stdout",
     "text": [
      "[9 7 9 7 6]\n[[9 6 6]\n [5 6 9]]\n"
     ]
    }
   ],
   "source": [
    "c=np.random.randint(5, 10, size=5)\n",
    "print(c)\n",
    "c=np.random.randint(5, 10, size=(2, 3))\n",
    "print(c)"
   ]
  },
  {
   "source": [
    "# 四則運算"
   ],
   "cell_type": "markdown",
   "metadata": {}
  },
  {
   "cell_type": "code",
   "execution_count": 76,
   "metadata": {},
   "outputs": [
    {
     "output_type": "stream",
     "name": "stdout",
     "text": [
      "[0 1 2]\n[5 6 7]\n[ 0  5 10]\n[0.  0.2 0.4]\n[0 1 2] dot [3 4 5] = 14\n"
     ]
    }
   ],
   "source": [
    "a = np.arange(3)\n",
    "b = np.arange(3, 6, 1)\n",
    "print(a)\n",
    "s = 5\n",
    "print(a + s)\n",
    "print(a * s)\n",
    "print(a / s)\n",
    "print(str(a) + \" dot \" + str(b) + \" =\", a.dot(b))"
   ]
  },
  {
   "cell_type": "code",
   "execution_count": 89,
   "metadata": {},
   "outputs": [
    {
     "output_type": "stream",
     "name": "stdout",
     "text": [
      "[1 2 3 4 5 6 7 8 9]\n[2 3]\n[1 2 3 4]\n[4 5 6 7 8 9]\n[3 6 9] [1 3 5 7 9] [9 8 7 6 5 4 3 2 1]\n45\n"
     ]
    }
   ],
   "source": [
    "a = np.arange(1,9+1)\n",
    "print(a)\n",
    "b, c, d = a[1:3], a[:4], a[3:]\n",
    "print(b)\n",
    "print(c)\n",
    "print(d)\n",
    "# array[start:end:step]\n",
    "b, c, d = a[2:9:3], a[::2], a[::-1]\n",
    "print(b, c, d)\n",
    "print(sum(a))\n"
   ]
  },
  {
   "cell_type": "code",
   "execution_count": 103,
   "metadata": {},
   "outputs": [
    {
     "output_type": "stream",
     "name": "stdout",
     "text": [
      "[[11 12 13 14 15]\n [16 17 18 19 20]\n [21 22 23 24 25]\n [26 27 28 29 30]\n [31 32 33 34 35]]\n[12 13 14]\n[16 21 26]\n[[12 13]\n [17 18]]\n[12 17 22 27 32]\n[[11 13 15]\n [21 23 25]\n [31 33 35]]\n"
     ]
    }
   ],
   "source": [
    "a = np.arange(11, 36)\n",
    "a = a.reshape(5, 5)\n",
    "print(a)\n",
    "b = a[0, 1:4]\n",
    "print(b)\n",
    "b = a[1:4, 0]\n",
    "print(b)\n",
    "b = a[:2, 1:3]\n",
    "print(b)\n",
    "b = a[:, 1]\n",
    "print(b)\n",
    "b = a[::2, ::2]\n",
    "print(b)"
   ]
  },
  {
   "cell_type": "code",
   "execution_count": 109,
   "metadata": {},
   "outputs": [
    {
     "output_type": "stream",
     "name": "stdout",
     "text": [
      "[1 2 3 4 5 6 7 8 9]\n[2 4 6 8]\n[1 2 3 4 5 6]\n[ 1  2 10  4  5  6 10  8  9]\n"
     ]
    }
   ],
   "source": [
    "a = np.arange(1,9+1)\n",
    "print(a)\n",
    "b = a[[1, 3, 5, 7]]\n",
    "print(b)\n",
    "b = a[range(6)]\n",
    "print(b)\n",
    "a[[2, 6]] = 10\n",
    "print(a)"
   ]
  },
  {
   "cell_type": "code",
   "execution_count": 119,
   "metadata": {},
   "outputs": [
    {
     "output_type": "stream",
     "name": "stdout",
     "text": [
      "[[1 2 3]\n [4 5 6]\n [7 8 9]]\n[1 5 7]\n[1 5 7]\n"
     ]
    }
   ],
   "source": [
    "a = np.arange(1, 10)\n",
    "a = a.reshape(3, 3)\n",
    "print(a)\n",
    "c = a[[0, 1, 2], [0, 1, 0]]\n",
    "print(c)\n",
    "c = np.array([a[0, 0], a[1, 1], a[2, 0]])\n",
    "print(c)"
   ]
  },
  {
   "cell_type": "code",
   "execution_count": 126,
   "metadata": {},
   "outputs": [
    {
     "output_type": "stream",
     "name": "stdout",
     "text": [
      "[1 2 3 4 5]\n[False  True False  True False]\n[2 4]\n[ 1 -1  3 -1  5]\n"
     ]
    }
   ],
   "source": [
    "b = np.arange(1, 6)\n",
    "print(b)\n",
    "mask = (b%2 == 0)\n",
    "print(mask)\n",
    "a = b[mask]\n",
    "print(a)\n",
    "b[b % 2 == 0] = -1\n",
    "print(b)"
   ]
  },
  {
   "cell_type": "code",
   "execution_count": 154,
   "metadata": {},
   "outputs": [
    {
     "output_type": "stream",
     "name": "stdout",
     "text": [
      "[[1 2]\n [3 4]\n [5 6]]\n[[False False]\n [ True  True]\n [ True  True]]\n[3 4 5 6]\n[[ 1  2]\n [-1 -1]\n [-1 -1]]\nNone\n"
     ]
    }
   ],
   "source": [
    "b = np.arange(1, 7).reshape(3, 2)\n",
    "print(b)\n",
    "mask = (b > 2)\n",
    "print(mask)\n",
    "a = b[mask]\n",
    "print(a)\n",
    "b[b > 2] = -1\n",
    "print(print(b))  "
   ]
  },
  {
   "cell_type": "code",
   "execution_count": 157,
   "metadata": {},
   "outputs": [
    {
     "output_type": "stream",
     "name": "stdout",
     "text": [
      "[[1 2 3]\n [4 5 6]]\n[1 2 3 4 5 6]\n[1 2 3 4 5 6]\n"
     ]
    }
   ],
   "source": [
    "a = np.arange(1, 7).reshape(2, 3)\n",
    "print(a)\n",
    "b = a.ravel()\n",
    "print(b)\n",
    "b = np.ravel(a)\n",
    "print(b)"
   ]
  },
  {
   "cell_type": "code",
   "execution_count": 160,
   "metadata": {},
   "outputs": [
    {
     "output_type": "stream",
     "name": "stdout",
     "text": [
      "[[1 2 3]\n [4 5 6]]\n[[1 4]\n [2 5]\n [3 6]]\n[[1 4]\n [2 5]\n [3 6]]\n"
     ]
    }
   ],
   "source": [
    "b = np.arange(1, 7).reshape(2, 3)\n",
    "print(b)\n",
    "print(b.T)\n",
    "print(b.transpose())"
   ]
  },
  {
   "cell_type": "code",
   "execution_count": 163,
   "metadata": {},
   "outputs": [
    {
     "output_type": "stream",
     "name": "stdout",
     "text": [
      "[1 2 3]\n[[1]\n [2]\n [3]]\n(3, 1)\n[[1 2 3]]\n(1, 3)\n"
     ]
    }
   ],
   "source": [
    "a = np.array([1, 2, 3])\n",
    "print(a) \n",
    "b = a[:, np.newaxis]\n",
    "print(b)\n",
    "print(b.shape)\n",
    "b = a[np.newaxis, :]\n",
    "print(b)\n",
    "print(b.shape)"
   ]
  },
  {
   "cell_type": "code",
   "execution_count": 193,
   "metadata": {},
   "outputs": [
    {
     "output_type": "stream",
     "name": "stdout",
     "text": [
      "[4 4 4]\n[[1 1 2 2]\n [1 1 2 2]]\n[1 2 3 4 4 4]\n[[1 1]\n [1 1]]\n[[2 2]\n [2 2]]\n[[1 1]\n [1 1]\n [2 2]\n [2 2]]\n[[1 1 2 2]\n [1 1 2 2]]\n"
     ]
    }
   ],
   "source": [
    "a = np.array([1, 2, 3])\n",
    "b = a.copy() # 如果寫 b = a 會造成 a b 連動\n",
    "b.fill(4)\n",
    "print(b)\n",
    "print(c)\n",
    "\n",
    "c = np.concatenate((a, b))\n",
    "print(c)\n",
    "a.resize(2, 2)\n",
    "a.fill(1)\n",
    "print(a)\n",
    "b.resize(2, 2)\n",
    "b.fill(2)\n",
    "print(b)\n",
    "c = np.concatenate((a, b), axis=0)\n",
    "print(c)\n",
    "c = np.concatenate((a, b), axis=1)\n",
    "print(c)"
   ]
  },
  {
   "cell_type": "code",
   "execution_count": 223,
   "metadata": {},
   "outputs": [
    {
     "output_type": "stream",
     "name": "stdout",
     "text": [
      "[[1 2 3]\n [4 5 6]\n [7 8 9]]\na's shape(3, 3)\n[0 1 0]\nb's shape(3,)\n[[1 3 3]\n [4 6 6]\n [7 9 9]]\n"
     ]
    }
   ],
   "source": [
    "# brocast\n",
    "a = np.arange(1, 10).reshape(3, 3)\n",
    "print(a)\n",
    "print(\"a's shape\" + str(a.shape))\n",
    "b = np.array([0, 1, 0])\n",
    "print(b)\n",
    "print(\"b's shape\" + str(b.shape))\n",
    "c = a + b \n",
    "print(c)\n"
   ]
  },
  {
   "cell_type": "code",
   "execution_count": null,
   "metadata": {},
   "outputs": [],
   "source": []
  }
 ]
}