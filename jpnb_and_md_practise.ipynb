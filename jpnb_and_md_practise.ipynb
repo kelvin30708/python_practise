{
 "metadata": {
  "orig_nbformat": 2,
  "kernelspec": {
   "name": "python3",
   "display_name": "Python 3",
   "language": "python"
  }
 },
 "nbformat": 4,
 "nbformat_minor": 2,
 "cells": [
  {
   "source": [
    "第1階標題\n",
    "=\n",
    "第2階標題\n",
    "-\n",
    "#      標題文字1\n",
    "##     標題文字2\n",
    "###    標題文字3\n",
    "####   標題文字4\n",
    "#####  標題文字5\n",
    "###### 標題文字6"
   ],
   "cell_type": "markdown",
   "metadata": {}
  },
  {
   "source": [
    "# 星號分隔線\n",
    "***"
   ],
   "cell_type": "markdown",
   "metadata": {}
  },
  {
   "source": [
    "* 星號項目\n",
    "+ 加號項目\n",
    "- 減號項目\n"
   ],
   "cell_type": "markdown",
   "metadata": {}
  },
  {
   "source": [
    "斜體：在兩邊加上 *星號* 或是 _底線_\n",
    "\n",
    "粗體：在兩邊加上 **兩個星號** 或是 __兩個底線__\n",
    "\n",
    "也可以用 **星號 與 _底線_**\n",
    "\n",
    "刪除線：在兩邊加上 ~~兩個波浪~~\n",
    "\n",
    "引言(註解)：\n",
    "\n",
    "> 換行：需在最後面+`兩個空白鍵`··  \n",
    "> 先以··表示空白"
   ],
   "cell_type": "markdown",
   "metadata": {}
  },
  {
   "source": [
    "有序列表直接打 `數字`+ `.` + `空白鍵`就可以了\n",
    "\n",
    "1. 有序列表1 \n",
    "2. 有序列表2\n",
    "\t1. 子有序列表1\n",
    "\t2. 子有序列表2\n",
    "\n",
    "* 無序列表\n",
    "\t* 子無序列表\n",
    "\t* 子無序列表\n",
    "\t\n",
    "\t\t要在列表項目下加入段落，只要`+Tab`就好了。 \n",
    "\t\t> * 無序列表可以使用星號\n",
    "\t\t> - 或減號\n",
    "\t\t> + 或加號"
   ],
   "cell_type": "markdown",
   "metadata": {}
  },
  {
   "source": [
    "* 連結兩邊加上`<` `>`就會產生超連結\n",
    "\n",
    "\t<http://dillinger.io/>  \n",
    "\t\n",
    "* 名稱兩邊加上`[` `]`然後再連結兩邊加上`(` `)`就可以將連結替換成文字連結\n",
    "\n",
    "\t[Dillinger](http://dillinger.io/ \"link\")\n",
    "\t\n",
    "* 將`[` `]`前+`!`，則可以產生圖片 (把滑鼠指向圖片可以看到註解）\n",
    "\n",
    "\t![圖片參考名稱](https://raw.githubusercontent.com/adam-p/markdown-here/master/src/common/images/icon48.png \"Logo\")"
   ],
   "cell_type": "markdown",
   "metadata": {}
  },
  {
   "source": [
    "行內的 `程式碼` 用 `反引號` 包起來\n",
    "區塊的 `程式碼` 用 ```三個反引號```包起來\n",
    "記得要加上語言名稱"
   ],
   "cell_type": "markdown",
   "metadata": {}
  },
  {
   "source": [
    "```javascript\n",
    "var s = \"JavaScript 語法高亮\";\n",
    "alert(s);\n",
    "```\n",
    "\n",
    "```php\n",
    "$s = \"PHP 語法高亮\";\n",
    "echo $s;\n",
    "```"
   ],
   "cell_type": "markdown",
   "metadata": {}
  },
  {
   "source": [
    "每個標頭元件都要用至少三個`破折號`+`直線`分隔開來，預設為置左。  \n",
    "`冒號`可以用來標示欄位的對齊方式。\n",
    "\n",
    "| 表頭1 | 表頭2 | 表頭3 |\n",
    "|-------|:-----:|------:|\n",
    "| 左1   |  中1  |   右1 |\n",
    "| 左2   |  中2  |   右2 |\n",
    "| 左3   |  中3  |   右3 |\n",
    "\n",
    "當然，也可以在表格內加入樣式\n",
    "\n",
    "|  功能  |    效果    | Markdown語法 |\n",
    "|:------:|:----------:|:------------:|\n",
    "|  粗體  |  **粗體**  |  `**粗體**`  |\n",
    "|  斜體  |   *斜體*   |   `*斜體*`   |\n",
    "| 刪除線 | ~~刪除線~~ | `~~刪除線~~` |\n"
   ],
   "cell_type": "markdown",
   "metadata": {}
  }
 ]
}