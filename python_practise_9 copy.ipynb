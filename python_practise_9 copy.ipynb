{
 "metadata": {
  "language_info": {
   "codemirror_mode": {
    "name": "ipython",
    "version": 3
   },
   "file_extension": ".py",
   "mimetype": "text/x-python",
   "name": "python",
   "nbconvert_exporter": "python",
   "pygments_lexer": "ipython3",
   "version": "3.8.8-final"
  },
  "orig_nbformat": 2,
  "kernelspec": {
   "name": "python3",
   "display_name": "Python 3.8.8 64-bit",
   "metadata": {
    "interpreter": {
     "hash": "45af7d4b8d36728110d3573c5f029a510be23eb82917811c566e03abbdac5d3d"
    }
   }
  }
 },
 "nbformat": 4,
 "nbformat_minor": 2,
 "cells": [
  {
   "cell_type": "code",
   "execution_count": 65,
   "metadata": {},
   "outputs": [
    {
     "output_type": "stream",
     "name": "stdout",
     "text": [
      "grade 90\nname Amy\nAmy\n2\n"
     ]
    }
   ],
   "source": [
    "class Student:\n",
    "    cnt = 0\n",
    "    def __init__(self, name, grade):\n",
    "        self.name  = name\n",
    "        self.grade = grade\n",
    "        Student.cnt += 1 \n",
    "    def displayStudent(self):\n",
    "        print(\"grade\", self.grade)\n",
    "        print(\"name\",   self.name)\n",
    "    def getname(self):\n",
    "        return self.name\n",
    "    def getcnt():\n",
    "        return Student.cnt\n",
    "s1 = Student(\"Amy\", 90)\n",
    "s1.displayStudent()\n",
    "print(s1.getname())\n",
    "\n",
    "s2 = Student(\"Pig\", 90)\n",
    "print(Student.getcnt())"
   ]
  },
  {
   "cell_type": "code",
   "execution_count": 66,
   "metadata": {},
   "outputs": [
    {
     "output_type": "stream",
     "name": "stdout",
     "text": [
      "brand: BMW\n\nbrand: Ford\ntype: GT350\n"
     ]
    }
   ],
   "source": [
    "class Vehicle:\n",
    "    def __init__(self, name):\n",
    "        self.name = name\n",
    "    def getname(self):\n",
    "        return self.name\n",
    "    def displayvehicle(self):\n",
    "        print(\"brand:\", self.name)\n",
    "class Car(Vehicle):\n",
    "    def __init__(self, name, model):\n",
    "        super().__init__(name)\n",
    "        self.model = model\n",
    "    def displayvehicle(self):\n",
    "        print(\"brand:\", self.name)\n",
    "        print(\"type:\", self.model)\n",
    "v1 = Vehicle(\"BMW\")\n",
    "v1.displayvehicle()\n",
    "print(\"\")\n",
    "\n",
    "c1 = Car(\"Ford\", \"GT350\")\n",
    "c1.displayvehicle()"
   ]
  },
  {
   "cell_type": "code",
   "execution_count": 1,
   "metadata": {},
   "outputs": [],
   "source": [
    "op = None\n",
    "def add(op1, op2):\n",
    "    return op1 + op2\n",
    "def sub(op1, op2):\n",
    "    return op1 - op2"
   ]
  },
  {
   "cell_type": "code",
   "execution_count": null,
   "metadata": {},
   "outputs": [],
   "source": []
  }
 ]
}