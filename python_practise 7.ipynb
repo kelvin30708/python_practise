{
 "metadata": {
  "orig_nbformat": 2,
  "kernelspec": {
   "name": "python3",
   "display_name": "Python 3",
   "language": "python"
  }
 },
 "nbformat": 4,
 "nbformat_minor": 2,
 "cells": [
  {
   "source": [
    "# ch7 內建函數"
   ],
   "cell_type": "markdown",
   "metadata": {}
  },
  {
   "source": [
    "|func.           | discript.      |\n",
    "|----------------|:--------------:|\n",
    "|abs(x)          |                |\n",
    "|max(x1,...,xn)  |                |\n",
    "|min(x1,...,xn)  |                |\n",
    "|pow(a, b)       |                |\n",
    "|round(a, digits)|整數後幾位四捨五入 |"
   ],
   "cell_type": "markdown",
   "metadata": {}
  },
  {
   "cell_type": "code",
   "execution_count": 9,
   "metadata": {},
   "outputs": [
    {
     "output_type": "stream",
     "name": "stdout",
     "text": [
      "10\n4\n3.6\n3\n"
     ]
    }
   ],
   "source": [
    "x = abs(-10)\n",
    "print(x)\n",
    "x = round(3.555555)\n",
    "print(x)\n",
    "x = round(3.555555, 1)\n",
    "print(x)\n",
    "x = min(9, 3, 15, 16, 17)\n",
    "print(x)"
   ]
  },
  {
   "source": [
    "# Anonymous func.s\n",
    "lambda parameters: operations"
   ],
   "cell_type": "markdown",
   "metadata": {}
  },
  {
   "cell_type": "code",
   "execution_count": 11,
   "metadata": {},
   "outputs": [
    {
     "output_type": "stream",
     "name": "stdout",
     "text": [
      "100\n"
     ]
    }
   ],
   "source": [
    "square = lambda x: x*x\n",
    "x = square(10)\n",
    "print(x)"
   ]
  },
  {
   "cell_type": "code",
   "execution_count": 19,
   "metadata": {},
   "outputs": [
    {
     "output_type": "stream",
     "name": "stdout",
     "text": [
      "square(10)   = 100\nsum(10, 5)   = 15\ntotal(10, 5) = 15\n"
     ]
    }
   ],
   "source": [
    "def sum(a, b):\n",
    "    return a + b\n",
    "square = lambda x:x*x\n",
    "total = sum\n",
    "r = square(10)\n",
    "print(\"square(10)   =\", r)\n",
    "r = sum(10, 5)\n",
    "print(\"sum(10, 5)   =\",r)\n",
    "r = total(10, 5)\n",
    "print(\"total(10, 5) =\", r)"
   ]
  },
  {
   "source": [
    "# 傳入參數函數\n"
   ],
   "cell_type": "markdown",
   "metadata": {}
  },
  {
   "cell_type": "code",
   "execution_count": 18,
   "metadata": {},
   "outputs": [
    {
     "output_type": "stream",
     "name": "stdout",
     "text": [
      "operate(16, 20, sum)= 36\n"
     ]
    }
   ],
   "source": [
    "def sum(a, b):\n",
    "    return a + b\n",
    "def operate(a, b, func):\n",
    "    return func(a, b)\n",
    "r = operate(16, 20, sum)\n",
    "print(\"operate(16, 20, sum)=\", r)"
   ]
  },
  {
   "source": [
    "# Ch8 String, list, tuple and dictionary"
   ],
   "cell_type": "markdown",
   "metadata": {}
  },
  {
   "cell_type": "code",
   "execution_count": 2,
   "metadata": {},
   "outputs": [
    {
     "output_type": "stream",
     "name": "stdout",
     "text": [
      "hello world\n"
     ]
    }
   ],
   "source": [
    "str = \"hello world\"\n",
    "print(str)"
   ]
  },
  {
   "cell_type": "code",
   "execution_count": 6,
   "metadata": {},
   "outputs": [
    {
     "output_type": "stream",
     "name": "stdout",
     "text": [
      "h\ne\nl\nl\no\n"
     ]
    }
   ],
   "source": [
    "str = \"hello\"\n",
    "for ch in str:\n",
    "    print(ch)"
   ]
  },
  {
   "cell_type": "code",
   "execution_count": 41,
   "metadata": {},
   "outputs": [
    {
     "output_type": "stream",
     "name": "stdout",
     "text": [
      "0 h\n1 e\n2 l\n3 l\n4 o\n"
     ]
    }
   ],
   "source": [
    "str = \"hello\"\n",
    "for i in range(len(str)):\n",
    "    print(i, str[i])\n",
    " "
   ]
  },
  {
   "cell_type": "code",
   "execution_count": 56,
   "metadata": {},
   "outputs": [
    {
     "output_type": "stream",
     "name": "stdout",
     "text": [
      "-5 h\n-4 e\n-3 l\n-2 l\n-1 o\n"
     ]
    }
   ],
   "source": [
    "for i in range(-len(str), 0, 1):\n",
    "    print(i, str[i]) "
   ]
  },
  {
   "source": [
    "# Escape 逸出字元\n",
    "\n",
    "| Escape | discript.    |\n",
    "|--------|--------------|\n",
    "|\\b      |backspace     |\n",
    "|\\f      |formfeed(換頁) |\n",
    "|\\n      |new line      |\n",
    "|\\r      |enter         |\n",
    "|\\t      |tab           |\n",
    "|\\'      |'             |\n",
    "|\\\"      |\"             |\n",
    "|\\\\      |\\             |\n",
    "|\\?      |?             |\n",
    "|\\N      |OCT           |\n",
    "|\\xN     |HEX           |"
   ],
   "cell_type": "markdown",
   "metadata": {}
  },
  {
   "cell_type": "code",
   "execution_count": 154,
   "metadata": {},
   "outputs": [
    {
     "output_type": "stream",
     "name": "stdout",
     "text": [
      "65\nA\n6\ny\nh\nTrue\nTrue\nFalse\n\nTrue\nFalse\nFalse\n\nFalse\nFalse\nFalse\nTrue\n\n"
     ]
    }
   ],
   "source": [
    "print(ord('A')) # chr   to ascii\n",
    "print(chr(65))  # ascii to chr\n",
    "print(len(\"python\"))\n",
    "print(max(\"python\")) # max chr\n",
    "print(min(\"python\")) # min chr\n",
    "str1 = \"Python\"\n",
    "str2 = \"Python3\"\n",
    "str3 = \"Python 3\"\n",
    "# is only alphabet or num\n",
    "print(str1.isalnum())\n",
    "print(str2.isalnum())\n",
    "print(str3.isalnum())\n",
    "print('')\n",
    "# is only alphabet\n",
    "print(str1.isalpha())\n",
    "print(str2.isalpha())\n",
    "print(str3.isalpha())\n",
    "print('')\n",
    "# is only digits\n",
    "print(str1.isdigit())\n",
    "print(str2.isdigit())\n",
    "print(str3.isdigit())\n",
    "x = \"1234\"\n",
    "print(x.isdigit())\n",
    "print('')"
   ]
  },
  {
   "cell_type": "code",
   "execution_count": null,
   "metadata": {},
   "outputs": [],
   "source": []
  }
 ]
}