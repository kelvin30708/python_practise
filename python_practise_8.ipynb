{
 "metadata": {
  "language_info": {
   "codemirror_mode": {
    "name": "ipython",
    "version": 3
   },
   "file_extension": ".py",
   "mimetype": "text/x-python",
   "name": "python",
   "nbconvert_exporter": "python",
   "pygments_lexer": "ipython3",
   "version": "3.7.9-final"
  },
  "orig_nbformat": 2,
  "kernelspec": {
   "name": "python3",
   "display_name": "Python 3.7.9 64-bit",
   "metadata": {
    "interpreter": {
     "hash": "9eec48297a30e94f9166eb81e55846d3a6087ace4e5503957e5b18ec0b659f13"
    }
   }
  }
 },
 "nbformat": 4,
 "nbformat_minor": 2,
 "cells": [
  {
   "cell_type": "code",
   "execution_count": 1,
   "metadata": {},
   "outputs": [
    {
     "output_type": "stream",
     "name": "stdout",
     "text": [
      "True\nTrue\nFalse\nFalse\n\nFalse\nFalse\nTrue\nTrue\n\nTrue\nFalse\nFalse\nFalse\n\nFalse\nFalse\nFalse\nFalse\nTrue\n"
     ]
    }
   ],
   "source": [
    "a = \"MYFOLDER\"\n",
    "b = \"Demo002\"\n",
    "c = \"2bring\"\n",
    "d = \"my demo\"\n",
    "e = \"        \"\n",
    "print(a.isidentifier())\n",
    "print(b.isidentifier())\n",
    "print(c.isidentifier())\n",
    "print(d.isidentifier())\n",
    "print(\"\")\n",
    "print(a.islower())\n",
    "print(b.islower())\n",
    "print(c.islower())\n",
    "print(d.islower())\n",
    "print(\"\")\n",
    "print(a.isupper())\n",
    "print(b.isupper())\n",
    "print(c.isupper())\n",
    "print(d.isupper())\n",
    "print(\"\")\n",
    "print(a.isspace())\n",
    "print(b.isspace())\n",
    "print(c.isspace())\n",
    "print(d.isspace())\n",
    "print(e.isspace())"
   ]
  },
  {
   "cell_type": "code",
   "execution_count": 19,
   "metadata": {},
   "outputs": [
    {
     "output_type": "stream",
     "name": "stdout",
     "text": [
      "True\n\nTrue\n\n3\n\n0\n1\n-1\n\n16\n17\n-1\n\n"
     ]
    }
   ],
   "source": [
    "a = \"MYFOLDERMYFOLDERMYFOLDER\"\n",
    "print(a.endswith(\"OLDER\"))\n",
    "print(\"\")\n",
    "print(a.startswith(\"MYFOLDER\"))\n",
    "print(\"\")\n",
    "print(a.count(\"MYFOLDER\"))\n",
    "print(\"\")\n",
    "print(a.find(\"MYFOLDER\"))\n",
    "print(a.find(\"YFOLDER\"))\n",
    "print(a.find(\"fuck\")) # not find return -1\n",
    "print(\"\")\n",
    "# rfind is max find\n",
    "print(a.rfind(\"MYFOLDER\")) \n",
    "print(a.rfind(\"YFOLDER\"))\n",
    "print(a.rfind(\"fuck\")) # not find return -1\n",
    "print(\"\")"
   ]
  },
  {
   "cell_type": "code",
   "execution_count": 22,
   "metadata": {},
   "outputs": [
    {
     "output_type": "stream",
     "name": "stdout",
     "text": [
      "Geeks for geeks\nGeeksForGeeks\n"
     ]
    }
   ],
   "source": [
    "name = \"geeks FOR geeks\" \n",
    "print(name.capitalize())\n",
    "\n",
    "name1 = \"geeks\"\n",
    "name2 = \"for\"\n",
    "name3 = \"geeks\"\n",
    "print(name1.capitalize() \n",
    "    + name2.capitalize()\n",
    "    + name3.capitalize())"
   ]
  },
  {
   "cell_type": "code",
   "execution_count": 23,
   "metadata": {},
   "outputs": [
    {
     "output_type": "stream",
     "name": "stdout",
     "text": [
      "geeks for geeks\ngeeksforgeeks\n"
     ]
    }
   ],
   "source": [
    "name = \"geeks FOR geeks\" \n",
    "print(name.lower())\n",
    "\n",
    "name1 = \"geeks\"\n",
    "name2 = \"for\"\n",
    "name3 = \"geeks\"\n",
    "print(name1.lower() \n",
    "    + name2.lower()\n",
    "    + name3.lower())"
   ]
  },
  {
   "cell_type": "code",
   "execution_count": 24,
   "metadata": {},
   "outputs": [
    {
     "output_type": "stream",
     "name": "stdout",
     "text": [
      "GEEKS FOR GEEKS\nGEEKSFORGEEKS\n"
     ]
    }
   ],
   "source": [
    "name = \"geeks FOR geeks\" \n",
    "print(name.upper())\n",
    "\n",
    "name1 = \"geeks\"\n",
    "name2 = \"for\"\n",
    "name3 = \"geeks\"\n",
    "print(name1.upper() \n",
    "    + name2.upper()\n",
    "    + name3.upper())"
   ]
  },
  {
   "cell_type": "code",
   "execution_count": 26,
   "metadata": {},
   "outputs": [
    {
     "output_type": "stream",
     "name": "stdout",
     "text": [
      "GEEKS for GEEKS\nGEEKSFORGEEKS\n"
     ]
    }
   ],
   "source": [
    "name = \"geeks FOR geeks\" \n",
    "print(name.swapcase())\n",
    "\n",
    "name1 = \"geeks\"\n",
    "name2 = \"for\"\n",
    "name3 = \"geeks\"\n",
    "print(name1.swapcase() \n",
    "    + name2.swapcase()\n",
    "    + name3.swapcase())"
   ]
  },
  {
   "cell_type": "code",
   "execution_count": 27,
   "metadata": {},
   "outputs": [
    {
     "output_type": "stream",
     "name": "stdout",
     "text": [
      "Taiwan FOR Taiwan\n"
     ]
    }
   ],
   "source": [
    "name = \"geeks FOR geeks\" \n",
    "print(name.replace(\"geeks\", \"Taiwan\"))"
   ]
  },
  {
   "cell_type": "code",
   "execution_count": 30,
   "metadata": {},
   "outputs": [
    {
     "output_type": "stream",
     "name": "stdout",
     "text": [
      "Y=20 X=10\ny=20 x=10\n"
     ]
    }
   ],
   "source": [
    "x, y = 10, 20\n",
    "s = \"Y={1} X={0}\".format(x, y)\n",
    "print(s+\"\")\n",
    "s = \"y={a} x={b}\".format(b=x, a=y)\n",
    "print(s+\"\")"
   ]
  },
  {
   "cell_type": "code",
   "execution_count": 47,
   "metadata": {},
   "outputs": [
    {
     "output_type": "stream",
     "name": "stdout",
     "text": [
      "整數:   456\n整數: 00456\n\n浮點數: 123.457\n浮點數: 1123.457\n\n02進制:11001000\n08進制:310\n16進制:c8\n"
     ]
    }
   ],
   "source": [
    "print(\"整數: {0:5d}\".format(456))\n",
    "print(\"整數: {0:05d}\".format(456))\n",
    "print(\"\")\n",
    "print(\"浮點數: {0:6.3f}\".format(123.45678910))\n",
    "print(\"浮點數: {0:6.3f}\".format(1123.45678910))\n",
    "print(\"\")\n",
    "print(\"02進制:{0:b}\".format(200))\n",
    "print(\"08進制:{0:o}\".format(200))\n",
    "print(\"16進制:{0:x}\".format(200))"
   ]
  },
  {
   "cell_type": "code",
   "execution_count": 54,
   "metadata": {},
   "outputs": [
    {
     "output_type": "stream",
     "name": "stdout",
     "text": [
      "[]\n['tom', 'mary', 'joe']\n['p', 'y', 't', 'h', 'o', 'n']\n[1, ['tom', 'mary', 'joe'], [3, 4, 5]]\n"
     ]
    }
   ],
   "source": [
    "lst1 = []\n",
    "lst2 = [3, 4, 5]\n",
    "lst3 = [1, 'python', 5.5]\n",
    "lst4 = list()\n",
    "print(str(lst4))\n",
    "lst5 = list([\"tom\", \"mary\", \"joe\"])\n",
    "print(str(lst5))\n",
    "lst6 = list(\"python\")\n",
    "print(str(lst6))\n",
    "lst7 = [1, lst5, lst2]\n",
    "print(str(lst7))"
   ]
  },
  {
   "cell_type": "code",
   "execution_count": 56,
   "metadata": {},
   "outputs": [
    {
     "output_type": "stream",
     "name": "stdout",
     "text": [
      "1\n2\n6\n5\n"
     ]
    }
   ],
   "source": [
    "lst1 = [1, 2, 3, 4, 5, 6]\n",
    "print(lst1[0])\n",
    "print(lst1[1])\n",
    "print(lst1[-1])\n",
    "print(lst1[-2])"
   ]
  },
  {
   "cell_type": "code",
   "execution_count": 58,
   "metadata": {},
   "outputs": [
    {
     "output_type": "stream",
     "name": "stdout",
     "text": [
      "1 2 3 4 5 6 0 cat\n1 dog\n2 bat\n"
     ]
    }
   ],
   "source": [
    "lst1 = [1, 2, 3, 4, 5, 6]\n",
    "for e in lst1:\n",
    "    print(e, end=\" \")\n",
    "animal = [\"cat\", \"dog\", \"bat\"]\n",
    "for index, animal in enumerate(animal):\n",
    "    print(index, animal)"
   ]
  },
  {
   "cell_type": "code",
   "execution_count": 1,
   "metadata": {},
   "outputs": [
    {
     "output_type": "stream",
     "name": "stdout",
     "text": [
      "cat\n3\n2 4 cat dog bat 1 3 5 "
     ]
    }
   ],
   "source": [
    "lst2 = [[2, 4], ['cat', 'dog', 'bat'], [1, 3, 5]]\n",
    "print(lst2[1][0])\n",
    "print(lst2[2][1])\n",
    "for e1 in lst2:\n",
    "    for e2 in e1:\n",
    "        print(e2, end=\" \")"
   ]
  },
  {
   "cell_type": "code",
   "execution_count": 31,
   "metadata": {},
   "outputs": [
    {
     "output_type": "stream",
     "name": "stdout",
     "text": [
      "[1, 5, 7]\n[1, 5, 7, 9, 11, 13]\n[1, 3, 5, 7, 9, 11, 13]\n[1, 3, 7, 9, 11, 13]\n13 [1, 3, 7, 9, 11]\n3 [1, 7, 9, 11]\n[1, 7, 9]\n1\n2\n[9, 7, 1]\n[1, 7, 9]\n"
     ]
    }
   ],
   "source": [
    "lst1 = [1, 5]\n",
    "lst1.append(7)\n",
    "print(lst1)\n",
    "lst1.extend([9, 11, 13])\n",
    "print(lst1)\n",
    "lst1.insert(1, 3)\n",
    "print(lst1)\n",
    "del lst1[2]\n",
    "print(lst1)\n",
    "e1 = lst1.pop()\n",
    "print(e1, lst1)\n",
    "e1 = lst1.pop(1)\n",
    "print(e1, lst1)\n",
    "lst1.remove(11)\n",
    "print(lst1)\n",
    "print(lst1.count(9))\n",
    "print(lst1.index(9))\n",
    "lst1.reverse()\n",
    "print(lst1)\n",
    "lst1.sort()\n",
    "print(lst1)"
   ]
  },
  {
   "cell_type": "code",
   "execution_count": 21,
   "metadata": {},
   "outputs": [
    {
     "output_type": "stream",
     "name": "stdout",
     "text": [
      "6\n100\n1\n[1, 2, 3, 2, 5, 100]\n113\n[1, 2, 2, 3, 5, 100]\n0 1\n1 2\n2 3\n3 2\n4 5\n5 100\n"
     ]
    }
   ],
   "source": [
    "lst1 = [1, 2, 3, 2, 5, 100]\n",
    "print(len(lst1))\n",
    "print(max(lst1))\n",
    "print(min(lst1))\n",
    "print(list(lst1))\n",
    "print(sum(lst1))\n",
    "print(sorted(lst1))\n",
    "for index, lst1 in enumerate(lst1):\n",
    "    print(index, lst1)"
   ]
  },
  {
   "cell_type": "code",
   "execution_count": 34,
   "metadata": {},
   "outputs": [
    {
     "output_type": "stream",
     "name": "stdout",
     "text": [
      "['This', 'is', 'a', 'pen.']\n['Tom', 'Bob', 'Marry', 'Joe', 'John']\n['23', '52', '44', '78']\n"
     ]
    }
   ],
   "source": [
    "str1 = \"This is a pen.\"\n",
    "lst1 = str1.split()\n",
    "print(lst1)\n",
    "str1 = \"Tom,Bob,Marry,Joe,John\"\n",
    "lst1 = str1.split(\",\")\n",
    "print(lst1)\n",
    "str1 = \"23\\n52\\n44\\n78\"\n",
    "lst1 = str1.splitlines()\n",
    "print(lst1)"
   ]
  },
  {
   "cell_type": "code",
   "execution_count": 38,
   "metadata": {},
   "outputs": [
    {
     "output_type": "stream",
     "name": "stdout",
     "text": [
      "('tom', 'marry', 'joe')\n('python',)\n"
     ]
    }
   ],
   "source": [
    "t1 = ()\n",
    "t2 = (1, 2, 3, 4, 5)\n",
    "t3 = (1, 'Joe', 5.5)\n",
    "t4 = tuple()\n",
    "t5 = tuple([\"tom\",\"marry\",\"joe\"])\n",
    "print(t5)\n",
    "t6 = tuple([\"python\"])\n",
    "print(t6)"
   ]
  },
  {
   "cell_type": "code",
   "execution_count": 40,
   "metadata": {},
   "outputs": [
    {
     "output_type": "stream",
     "name": "stdout",
     "text": [
      "1\n2\n5\n4\n1 2 3 4 5 "
     ]
    }
   ],
   "source": [
    "t1 = (1, 2, 3, 4, 5)\n",
    "print(t1[0])\n",
    "print(t1[1])\n",
    "print(t1[-1])\n",
    "print(t1[-2])\n",
    "for e in t1:\n",
    "    print(e, end=\" \")"
   ]
  },
  {
   "cell_type": "code",
   "execution_count": 17,
   "metadata": {},
   "outputs": [
    {
     "output_type": "stream",
     "name": "stdout",
     "text": [
      "{'name': 'joe', 1: [2, 4, 6]}\n{1: 'tom', 2: 'mary', 3: 'john'}\ntom\nmary\n1 tom\n2 mary\n3 john\n\nnumber: 1 student name: tom\nnumber: 2 student name: mary\nnumber: 3 student name: john\n"
     ]
    }
   ],
   "source": [
    "d1 = {}\n",
    "d1 = {1: 'apple', 2: 'ball'}\n",
    "d1 = {'name': 'joe', 1: [2, 4, 6]}\n",
    "print(d1)\n",
    "d1 = dict()\n",
    "d1 = dict([(1, \"tom\"), (2, \"mary\"), (3, \"john\")])\n",
    "print(d1)\n",
    "print(d1[1])\n",
    "print(d1[2])\n",
    "for num in d1:\n",
    "    name = d1[num]\n",
    "    print(num, name)\n",
    "print(\"\")\n",
    "for num, name in d1.items():\n",
    "    print(\"number: {0} student name: {1}\".format(num, name))"
   ]
  },
  {
   "cell_type": "code",
   "execution_count": 27,
   "metadata": {},
   "outputs": [
    {
     "output_type": "stream",
     "name": "stdout",
     "text": [
      "{1: 'tom', 3: 'john'}\n{1: 'tom'}\n{1: 'tom', 2: 'mary'}\n"
     ]
    }
   ],
   "source": [
    "d1 = {1: 'tom', 2: 'mary', 3: 'john'}\n",
    "del d1[2]\n",
    "print(d1)\n",
    "d1.pop(3)\n",
    "print(d1)\n",
    "d1 = {1: 'tom', 2: 'mary', 3: 'john'}\n",
    "d1.popitem()\n",
    "print(d1)"
   ]
  },
  {
   "cell_type": "code",
   "execution_count": 47,
   "metadata": {},
   "outputs": [
    {
     "output_type": "stream",
     "name": "stdout",
     "text": [
      "5\n{3: 'john', 1: 'tom', 4: 'amy', 5: 'zach', 2: 'mary'}\n[1, 2, 3, 4, 5]\n[(1, 'tom'), (2, 'mary'), (3, 'john'), (4, 'amy'), (5, 'zach')]\n{1: 'tom', 2: 'mary', 3: 'john', 4: 'amy', 5: 'zach'}\n"
     ]
    }
   ],
   "source": [
    "d1 = {3: 'john', 1: 'tom',  4: 'amy', 5: 'zach', 2: 'mary'}\n",
    "print(len(d1))\n",
    "t1 = list(d1.items())\n",
    "print(dict(t1))\n",
    "print(sorted(d1))\n",
    "print(sorted(d1.items()))\n",
    "print(dict(sorted(d1.items())))\n",
    "# print(dict([()])))"
   ]
  },
  {
   "cell_type": "code",
   "execution_count": 59,
   "metadata": {},
   "outputs": [
    {
     "output_type": "stream",
     "name": "stdout",
     "text": [
      "{1: 'tom', 2: 'mary', 3: 'john', 4: 'amy', 5: 'zach'}\n{2: 'mary', 3: 'john', 4: 'amy', 5: 'zach'}\n{2: 'mary', 3: 'john', 4: 'amy'}\n{}\ntom\ntom\ndict_keys([1, 2, 3, 4, 5])\ndict_values(['tom', 'mary', 'john', 'amy', 'zach'])\n"
     ]
    }
   ],
   "source": [
    "d1 = {1: 'tom', 2: 'mary', 3: 'john', 4: 'amy', 5: 'zach'}\n",
    "print(d1)\n",
    "d1.pop(1) # pop(key)\n",
    "print(d1)\n",
    "d1.popitem()\n",
    "print(d1)\n",
    "d1.clear()\n",
    "print(d1)\n",
    "\n",
    "d1 = {1: 'tom', 2: 'mary', 3: 'john', 4: 'amy', 5: 'zach'}\n",
    "print(d1[1])\n",
    "print(d1.get(1)) \n",
    "print(d1.keys())\n",
    "print(d1.values())"
   ]
  },
  {
   "cell_type": "code",
   "execution_count": 63,
   "metadata": {},
   "outputs": [
    {
     "output_type": "stream",
     "name": "stdout",
     "text": [
      "dict_keys(['tom', 'bob', 'mike'])\n['tom', 'bob', 'mike']\n[('tom', 2), ('bob', 3), ('mike', 4)]\n"
     ]
    }
   ],
   "source": [
    "d1 = {\"tom\": 2, \"bob\": 3, \"mike\": 4} \n",
    "print(d1.keys())\n",
    "print(list(d1))\n",
    "print(list(d1.items()))"
   ]
  },
  {
   "cell_type": "code",
   "execution_count": 80,
   "metadata": {},
   "outputs": [
    {
     "output_type": "stream",
     "name": "stdout",
     "text": [
      "hello world\n[2, 4, 6, 8, 10]\n(2, 4, 6, 8, 10)\n"
     ]
    }
   ],
   "source": [
    "str1, str2 = \"hello \", \"world\"\n",
    "print(str1 + str2)\n",
    "\n",
    "lst1, lst2 = [2, 4], [6, 8, 10]\n",
    "print(str(lst1 + lst2))\n",
    "\n",
    "t1, t2 = (2, 4), (6, 8, 10)\n",
    "t3 = t1 + t2\n",
    "print(str(t3))"
   ]
  },
  {
   "cell_type": "code",
   "execution_count": 85,
   "metadata": {},
   "outputs": [
    {
     "output_type": "stream",
     "name": "stdout",
     "text": [
      "hello hello hello \n[1, 2, 1, 2, 1, 2]\n(1, 2, 1, 2, 1, 2)\n"
     ]
    }
   ],
   "source": [
    "str1 = \"hello \"\n",
    "str2 = str1 * 3\n",
    "print(str2)\n",
    "\n",
    "lst1 = [1, 2]\n",
    "lst1 = lst1 * 3\n",
    "print(lst1)\n",
    "\n",
    "t1 = (1, 2)\n",
    "t1 = t1 * 3\n",
    "print(t1)"
   ]
  },
  {
   "cell_type": "code",
   "execution_count": 89,
   "metadata": {},
   "outputs": [
    {
     "output_type": "stream",
     "name": "stdout",
     "text": [
      "True\nFalse\n\nTrue\nFalse\n"
     ]
    }
   ],
   "source": [
    "str = \"welcome\"\n",
    "print(\"come\" in str)\n",
    "print(\"come\" not in str)\n",
    "print(\"\")\n",
    "\n",
    "lst1 = [2, 4, 6, 8]\n",
    "print(2 in lst1)\n",
    "print(2 not in lst1)"
   ]
  },
  {
   "cell_type": "code",
   "execution_count": 96,
   "metadata": {},
   "outputs": [
    {
     "output_type": "stream",
     "name": "stdout",
     "text": [
      "True\nFalse\n\nFalse\nTrue\nTrue\nTrue\nFalse\nFalse\n"
     ]
    }
   ],
   "source": [
    "d1 = {\"tom\": 2, \"joe\": 3}\n",
    "print(\"tom\" in d1)\n",
    "print(\"tom\" not in d1)\n",
    "print(\"\")\n",
    "\n",
    "print(\"green\" == \"glow\")\n",
    "print(\"green\" != \"glow\")\n",
    "print(\"green\" > \"glow\")\n",
    "print(\"green\" >= \"glow\")\n",
    "print(\"green\" < \"glow\")\n",
    "print(\"green\" <= \"glow\")"
   ]
  },
  {
   "cell_type": "code",
   "execution_count": 97,
   "metadata": {},
   "outputs": [
    {
     "output_type": "stream",
     "name": "stdout",
     "text": [
      "True\nFalse\n"
     ]
    }
   ],
   "source": [
    "d1 = {\"tom\": 30, \"bobe\": 3}\n",
    "d2 = {\"bobe\": 3, \"tom\": 30}\n",
    "print(d1 == d2)\n",
    "print(d1 != d2)"
   ]
  },
  {
   "cell_type": "code",
   "execution_count": 108,
   "metadata": {},
   "outputs": [
    {
     "output_type": "stream",
     "name": "stdout",
     "text": [
      "['h', 'e', 'l', 'l', 'o', ' ', 'w', 'o', 'r', 'l', 'd', '!']\n('h', 'e', 'l', 'l', 'o', ' ', 'w', 'o', 'r', 'l', 'd', '!')\n\nel\n['e', 'l']\n('e', 'l')\n\nello\n['e', 'l', 'l', 'o']\n('e', 'l', 'l', 'o')\n\nhello w\n['h', 'e', 'l', 'l', 'o', ' ', 'w']\n('h', 'e', 'l', 'l', 'o', ' ', 'w')\n\no world!\n['o', ' ', 'w', 'o', 'r', 'l', 'd', '!']\n('o', ' ', 'w', 'o', 'r', 'l', 'd', '!')\n\nello world\n['e', 'l', 'l', 'o', ' ', 'w', 'o', 'r', 'l', 'd']\n('e', 'l', 'l', 'o', ' ', 'w', 'o', 'r', 'l', 'd')\n\nworl\n['w', 'o', 'r', 'l']\n('w', 'o', 'r', 'l')\n\n"
     ]
    }
   ],
   "source": [
    "str1 = \"hello world!\"\n",
    "lst1 = list(str1)\n",
    "print(lst1)\n",
    "t1 = tuple(str1)\n",
    "print(t1)\n",
    "print(\"\")\n",
    "\n",
    "print(str1[1:3])\n",
    "print(lst1[1:3])\n",
    "print(  t1[1:3])\n",
    "print(\"\")\n",
    "\n",
    "print(str1[1:5])\n",
    "print(lst1[1:5])\n",
    "print(  t1[1:5])\n",
    "print(\"\")\n",
    "\n",
    "print(str1[:7])\n",
    "print(lst1[:7])\n",
    "print(  t1[:7])\n",
    "print(\"\")\n",
    "\n",
    "print(str1[4:])\n",
    "print(lst1[4:])\n",
    "print(  t1[4:])\n",
    "print(\"\")\n",
    "\n",
    "print(str1[1:-1])\n",
    "print(lst1[1:-1])\n",
    "print(  t1[1:-1])\n",
    "print(\"\")\n",
    "\n",
    "print(str1[6:-2])\n",
    "print(lst1[6:-2])\n",
    "print(  t1[6:-2])\n",
    "print(\"\")"
   ]
  },
  {
   "cell_type": "code",
   "execution_count": 111,
   "metadata": {},
   "outputs": [
    {
     "output_type": "stream",
     "name": "stdout",
     "text": [
      "[2, 3, 5, 7]\n[2, 3, 1, 9, 5, 7]\n[2, 3, 9, 5, 7]\n"
     ]
    }
   ],
   "source": [
    "lst1 = [2, 4, 6, 8]\n",
    "lst1[1:4] = [3, 5, 7]\n",
    "print(lst1)\n",
    "lst1[2:2] = [1, 9]\n",
    "print(lst1)\n",
    "lst1[2:3] = []\n",
    "print(lst1)"
   ]
  },
  {
   "cell_type": "code",
   "execution_count": 117,
   "metadata": {},
   "outputs": [
    {
     "output_type": "stream",
     "name": "stdout",
     "text": [
      "[0, 1, 2, 3, 4, 5, 6, 7, 8, 9]\n[1, 2, 3, 4, 5, 6, 7, 8, 9, 10]\n[1, 3, 5, 7, 9]\n[2, 6, 10, 14, 18]\n"
     ]
    }
   ],
   "source": [
    "lst1 = [x for x in range(10)]\n",
    "print(lst1)\n",
    "lst1 = [x+1 for x in range(10)]\n",
    "print(lst1)\n",
    "lst1 = [x for x in range(10) if x % 2 == 1]\n",
    "print(lst1)\n",
    "lst1 = [2*x for x in range(10) if x % 2 == 1]\n",
    "print(lst1)"
   ]
  },
  {
   "cell_type": "code",
   "execution_count": 119,
   "metadata": {},
   "outputs": [
    {
     "output_type": "stream",
     "name": "stdout",
     "text": [
      "{0: 0, 1: 1, 2: 4, 3: 9, 4: 16, 5: 25, 6: 36, 7: 49, 8: 64, 9: 81}\n{0: 0, 2: 4, 4: 16, 6: 36, 8: 64}\n"
     ]
    }
   ],
   "source": [
    "d1 = {x:x*x for x in range(10)}\n",
    "print(d1)\n",
    "\n",
    "d1 = {x:x*x for x in range(10) if x % 2 == 0}\n",
    "print(d1)"
   ]
  },
  {
   "cell_type": "code",
   "execution_count": null,
   "metadata": {},
   "outputs": [],
   "source": []
  }
 ]
}