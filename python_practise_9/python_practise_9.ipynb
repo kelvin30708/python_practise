{
 "metadata": {
  "language_info": {
   "codemirror_mode": {
    "name": "ipython",
    "version": 3
   },
   "file_extension": ".py",
   "mimetype": "text/x-python",
   "name": "python",
   "nbconvert_exporter": "python",
   "pygments_lexer": "ipython3",
   "version": "3.8.8-final"
  },
  "orig_nbformat": 2,
  "kernelspec": {
   "name": "python3",
   "display_name": "Python 3.8.8 64-bit",
   "metadata": {
    "interpreter": {
     "hash": "45af7d4b8d36728110d3573c5f029a510be23eb82917811c566e03abbdac5d3d"
    }
   }
  }
 },
 "nbformat": 4,
 "nbformat_minor": 2,
 "cells": [
  {
   "cell_type": "code",
   "execution_count": 65,
   "metadata": {},
   "outputs": [
    {
     "output_type": "stream",
     "name": "stdout",
     "text": [
      "grade 90\nname Amy\nAmy\n2\n"
     ]
    }
   ],
   "source": [
    "class Student:\n",
    "    cnt = 0\n",
    "    def __init__(self, name, grade):\n",
    "        self.name  = name\n",
    "        self.grade = grade\n",
    "        Student.cnt += 1 \n",
    "    def displayStudent(self):\n",
    "        print(\"grade\", self.grade)\n",
    "        print(\"name\",   self.name)\n",
    "    def getname(self):\n",
    "        return self.name\n",
    "    def getcnt():\n",
    "        return Student.cnt\n",
    "s1 = Student(\"Amy\", 90)\n",
    "s1.displayStudent()\n",
    "print(s1.getname())\n",
    "\n",
    "s2 = Student(\"Pig\", 90)\n",
    "print(Student.getcnt())"
   ]
  },
  {
   "cell_type": "code",
   "execution_count": 66,
   "metadata": {},
   "outputs": [
    {
     "output_type": "stream",
     "name": "stdout",
     "text": [
      "brand: BMW\n\nbrand: Ford\ntype: GT350\n"
     ]
    }
   ],
   "source": [
    "class Vehicle:\n",
    "    def __init__(self, name):\n",
    "        self.name = name\n",
    "    def getname(self):\n",
    "        return self.name\n",
    "    def displayvehicle(self):\n",
    "        print(\"brand:\", self.name)\n",
    "class Car(Vehicle):\n",
    "    def __init__(self, name, model):\n",
    "        super().__init__(name)\n",
    "        self.model = model\n",
    "    def displayvehicle(self):\n",
    "        print(\"brand:\", self.name)\n",
    "        print(\"type:\", self.model)\n",
    "v1 = Vehicle(\"BMW\")\n",
    "v1.displayvehicle()\n",
    "print(\"\")\n",
    "\n",
    "c1 = Car(\"Ford\", \"GT350\")\n",
    "c1.displayvehicle()"
   ]
  },
  {
   "cell_type": "code",
   "execution_count": 9,
   "metadata": {},
   "outputs": [
    {
     "output_type": "stream",
     "name": "stdout",
     "text": [
      "加法\n90\n-60\n"
     ]
    }
   ],
   "source": [
    "import mymath\n",
    "mymath.op = \"加法\"\n",
    "print(mymath.op)\n",
    "print(mymath.add(15,75))\n",
    "print(mymath.sub(15,75))"
   ]
  },
  {
   "cell_type": "code",
   "execution_count": 12,
   "metadata": {},
   "outputs": [
    {
     "output_type": "stream",
     "name": "stdout",
     "text": [
      "-60\n"
     ]
    }
   ],
   "source": [
    "from mymath import sub\n",
    "print(sub(15,75))"
   ]
  },
  {
   "cell_type": "code",
   "execution_count": 16,
   "metadata": {},
   "outputs": [
    {
     "output_type": "stream",
     "name": "stdout",
     "text": [
      "加法\n90\n-60\n\n減法\n90\n-60\n"
     ]
    }
   ],
   "source": [
    "from mymath import *\n",
    "mymath.op = \"加法\"\n",
    "print(mymath.op)\n",
    "print(mymath.add(15,75))\n",
    "print(mymath.sub(15,75))\n",
    "print(\"\")\n",
    "\n",
    "op = \"減法\"\n",
    "print(op)\n",
    "print(add(15,75))\n",
    "print(sub(15,75))"
   ]
  },
  {
   "cell_type": "code",
   "execution_count": 10,
   "metadata": {},
   "outputs": [
    {
     "output_type": "stream",
     "name": "stdout",
     "text": [
      "16\n"
     ]
    }
   ],
   "source": [
    "import random as rd\n",
    "print(rd.randint(1, 100))"
   ]
  },
  {
   "cell_type": "code",
   "execution_count": 17,
   "metadata": {},
   "outputs": [
    {
     "output_type": "stream",
     "name": "stdout",
     "text": [
      "['BPF', 'LOG4', 'NV_MAGICCONST', 'RECIP_BPF', 'Random', 'SG_MAGICCONST', 'SystemRandom', 'TWOPI', '_Sequence', '_Set', '__all__', '__builtins__', '__cached__', '__doc__', '__file__', '__loader__', '__name__', '__package__', '__spec__', '_accumulate', '_acos', '_bisect', '_ceil', '_cos', '_e', '_exp', '_inst', '_log', '_os', '_pi', '_random', '_repeat', '_sha512', '_sin', '_sqrt', '_test', '_test_generator', '_urandom', '_warn', 'betavariate', 'choice', 'choices', 'expovariate', 'gammavariate', 'gauss', 'getrandbits', 'getstate', 'lognormvariate', 'normalvariate', 'paretovariate', 'randint', 'random', 'randrange', 'sample', 'seed', 'setstate', 'shuffle', 'triangular', 'uniform', 'vonmisesvariate', 'weibullvariate']\n"
     ]
    }
   ],
   "source": [
    "import random\n",
    "print(dir(random))"
   ]
  },
  {
   "cell_type": "code",
   "execution_count": 29,
   "metadata": {},
   "outputs": [
    {
     "output_type": "stream",
     "name": "stdout",
     "text": [
      "2.718281828459045\n1.7320508075688772\n3.141592653589793\n0.5\n2.0943951023931957\n-0.5235987755982989\n-0.4636476090008061\n-1.1071487177940904\n0\n0.8775825618903728\n0.6065306597126334\n-1\n-0.6931471805599453\n32.0\n-0.479425538604203\n0.7071067811865476\n-0.5463024898437905\n-28.64788975654116\n-0.008726646259971648\n"
     ]
    }
   ],
   "source": [
    "import math\n",
    "print(math.e)\n",
    "print(math.sqrt(3))\n",
    "print(math.pi)\n",
    "x = -0.5\n",
    "print(math.fabs(x))\n",
    "print(math.acos(x))\n",
    "print(math.asin(x))\n",
    "print(math.atan(x))\n",
    "print(math.atan2(-2, 1))\n",
    "print(math.ceil(x))\n",
    "print(math.cos(x))\n",
    "print(math.exp(x))\n",
    "print(math.floor(x))\n",
    "print(math.log(0.5))\n",
    "print(math.pow(2, 5))\n",
    "print(math.sin(x))\n",
    "print(math.sqrt(0.5))\n",
    "print(math.tan(x))\n",
    "print(math.degrees(x))\n",
    "print(math.radians(x))"
   ]
  },
  {
   "cell_type": "code",
   "execution_count": 55,
   "metadata": {},
   "outputs": [
    {
     "output_type": "stream",
     "name": "stdout",
     "text": [
      "[0, 1, 2, 3, 4, 5, 6, 7, 8, 9, 10]\n2\n"
     ]
    }
   ],
   "source": [
    "import random\n",
    "lst1 = list(range(11))\n",
    "print(lst1)\n",
    "r3 = random.choice(lst1)\n",
    "print(r3)"
   ]
  },
  {
   "source": [
    "### I / O files\n",
    "|模式字串| 當開啟檔案已經存在      | 當開啟檔案不存在 |\n",
    "|:-------|:--------|:----|\n",
    "|r      |開啟唯獨的檔案           |產生錯誤         |\n",
    "|w      |清除檔案內容後寫入       |建立寫入檔案      |\n",
    "|a      |開啟檔案從檔案尾後開始寫入|建立寫入檔案      | \n",
    "|r+     |開啟讀寫的檔案           |產生錯誤         |\n",
    "|w+     |清除檔案內容後讀寫內容    |建立讀寫檔案     | \n",
    "|a+     |開啟檔案從檔案尾後開始讀寫|建立讀寫檔案     | "
   ],
   "cell_type": "markdown",
   "metadata": {}
  },
  {
   "cell_type": "code",
   "execution_count": 12,
   "metadata": {},
   "outputs": [
    {
     "output_type": "stream",
     "name": "stdout",
     "text": [
      "Kelvin\nPython\nProgramming design\nPython Oriented Object Programming design\n\nKelvin\nPython\nProgramming design\nPython Oriented Object Programming design\n\nKelvin\nPython\nProgramming design\nPython Oriented Object Programming design\n\nK\nelvin\n\nKelvin\n\n"
     ]
    }
   ],
   "source": [
    "fp = open(\"note.txt\", \"w\")\n",
    "fp.write(\"Kelvin\\n\")\n",
    "fp.write(\"Python\\n\")\n",
    "fp.write(\"Programming design\\n\")\n",
    "fp.close()\n",
    "\n",
    "fp = open(\"note.txt\", \"a\")\n",
    "fp.write(\"Python Oriented Object Programming design\\n\")\n",
    "fp.close()\n",
    "\n",
    "fp = open(\"note.txt\", \"r\")\n",
    "str1 = fp.read()\n",
    "print(str1)\n",
    "fp.close()\n",
    "\n",
    "fp = open(\"note.txt\", \"r\")\n",
    "lst1 = fp.readlines()\n",
    "for e in lst1:\n",
    "    print(e, end=\"\")\n",
    "fp.close()\n",
    "print(\"\")\n",
    "\n",
    "with open(\"note.txt\", \"r\") as fp:\n",
    "    str1 = fp.read()\n",
    "    print(str1)\n",
    "\n",
    "fp = open(\"note.txt\", \"r\")\n",
    "str1 = fp.read(1)\n",
    "print(str1)\n",
    "str1 = fp.read(5)\n",
    "print(str1)\n",
    "fp.close()\n",
    "print(\"\")\n",
    "\n",
    "fp = open(\"note.txt\", \"r\")\n",
    "str1 = fp.readline()\n",
    "print(str1)\n",
    "fp.close()"
   ]
  },
  {
   "source": [
    "### 二進位檔案讀寫"
   ],
   "cell_type": "markdown",
   "metadata": {}
  },
  {
   "cell_type": "code",
   "execution_count": 18,
   "metadata": {},
   "outputs": [
    {
     "output_type": "stream",
     "name": "stdout",
     "text": [
      "11\nKelvin\n[1, 2, 3, 4]\n"
     ]
    }
   ],
   "source": [
    "import pickle\n",
    "fp = open(\"note.dat\", \"wb\")\n",
    "pickle.dump(11, fp)\n",
    "pickle.dump(\"Kelvin\", fp)\n",
    "pickle.dump(list(range(1, 5)), fp)\n",
    "fp.close()\n",
    "\n",
    "import pickle\n",
    "fp = open(\"note.dat\", \"rb\")\n",
    "num = pickle.load(fp)\n",
    "print(num)\n",
    "\n",
    "str1 = pickle.load(fp)\n",
    "print(str1)\n",
    "\n",
    "lst1 = pickle.load(fp)\n",
    "print(lst1)\n",
    "\n",
    "fp.close()"
   ]
  },
  {
   "source": [
    "### Exception\n",
    "```\n",
    "try:\n",
    "    # 產生例外程式碼\n",
    "except <Exception type>:\n",
    "    # 例外處理\n",
    "\n",
    "```\n",
    "\n"
   ],
   "cell_type": "markdown",
   "metadata": {}
  },
  {
   "cell_type": "code",
   "execution_count": 28,
   "metadata": {},
   "outputs": [
    {
     "output_type": "stream",
     "name": "stdout",
     "text": [
      "[Errno 2] No such file or directory: 'myfile.txt'\n"
     ]
    }
   ],
   "source": [
    "try:\n",
    "    fp =open(\"myfile.txt\", \"r\")\n",
    "    print(fp.read())\n",
    "    fp.close()\n",
    "except FileNotFoundError as e:\n",
    "    print(e)"
   ]
  },
  {
   "cell_type": "code",
   "execution_count": 10,
   "metadata": {},
   "outputs": [
    {
     "output_type": "stream",
     "name": "stdout",
     "text": [
      "r =  0.5\n"
     ]
    }
   ],
   "source": [
    "try:\n",
    "    n1, n2 = eval(input(\"n1:\")), eval(input(\"n2\"))\n",
    "    r = n1 / n2\n",
    "    print(\"r = \", r)\n",
    "except ZeroDivisionError as e:\n",
    "    print(e)\n",
    "except SystemError as e:\n",
    "    print(e)\n",
    "except SystemError as e:\n",
    "    print(e)"
   ]
  },
  {
   "source": [
    "### eval()\n"
   ],
   "cell_type": "markdown",
   "metadata": {}
  },
  {
   "cell_type": "code",
   "execution_count": 17,
   "metadata": {},
   "outputs": [
    {
     "output_type": "stream",
     "name": "stdout",
     "text": [
      "python\n15\n0.5\n15\n50\nmmmmm\n"
     ]
    }
   ],
   "source": [
    "m = 10\n",
    "eval(\"print('python')\")\n",
    "eval(\"print(5+10)\")\n",
    "eval(\"print(5/10)\")\n",
    "eval(\"print(5+m)\")\n",
    "eval(\"print(m*5)\")\n",
    "eval(\"print('m'*5)\")"
   ]
  },
  {
   "source": [
    "```\n",
    "try:\n",
    "    # 產生例外的程式碼\n",
    "except <Exception type>:\n",
    "    # 例外處理\n",
    "else:\n",
    "    # 如果沒有例外，就會執行\n",
    "finally:\n",
    "    # 不論是否產生例外，都會執行\n",
    "```"
   ],
   "cell_type": "markdown",
   "metadata": {}
  },
  {
   "cell_type": "code",
   "execution_count": 27,
   "metadata": {},
   "outputs": [
    {
     "output_type": "stream",
     "name": "stdout",
     "text": [
      "r =  0.5\n輸入資料正確\n有輸入資料\n"
     ]
    }
   ],
   "source": [
    "try:\n",
    "    n1, n2 = eval(input(\"n1:\")), eval(input(\"n2\"))\n",
    "    r = n1 / n2\n",
    "    print(\"r = \", r)\n",
    "except: \n",
    "    print(\"輸入或運算錯誤\")\n",
    "else:    \n",
    "    print(\"輸入資料正確\")\n",
    "finally:\n",
    "    print(\"有輸入資料\")\n",
    "\n",
    "\n"
   ]
  },
  {
   "cell_type": "code",
   "execution_count": null,
   "metadata": {},
   "outputs": [],
   "source": []
  }
 ]
}